{
 "cells": [
  {
   "cell_type": "markdown",
   "metadata": {},
   "source": [
    "# NeXus Data Format\n",
    "\n",
    "NeXus is an international standard for storing neutron, x-ray and muon data. NeXus data are stored in HDF5 files, using a logical design that makes them easy to navigate, and a pre-defined dictionary of groups, fields, and attributes that describe commonly occurring experimental metadata. Further details can be found on the [NeXus website](http://www.nexusformat.org). This notebook provides a tutorial on using the Python [nexusformat package](http://nexpy.github.io/nexpy/pythonshell.html) to read, write, and manipulate NeXus data."
   ]
  },
  {
   "cell_type": "markdown",
   "metadata": {},
   "source": [
    "## Installation\n",
    "Before running this notebook, you should make sure that the `nexusformat` package has been installed. If you have an Anaconda Python environment, type:\n",
    "\n",
    "    >>> conda install -c nexpy nexusformat\n",
    "    \n",
    "Otherwise, type:\n",
    "\n",
    "    >>> pip install nexusformat\n",
    "\n",
    "> *N.B.* The `nexusformat` package uses [h5py](http://www.h5py.org) to read and write the underlying HDF5 files. It also requires [numpy](http://numpy.scipy.org/) and, if plotting is required, [matplotlib](http://www.matplotlib.org).\n",
    "\n",
    "If already installed, you can skip the following cell:"
   ]
  },
  {
   "cell_type": "code",
   "execution_count": 1,
   "metadata": {},
   "outputs": [
    {
     "name": "stdout",
     "output_type": "stream",
     "text": [
      "Requirement already satisfied: nexusformat in /Users/rosborn/opt/miniconda3/lib/python3.8/site-packages (0.7.1)\n",
      "Requirement already satisfied: versioneer in /Users/rosborn/opt/miniconda3/lib/python3.8/site-packages (from nexusformat) (0.20)\n",
      "Requirement already satisfied: numpy>=1.16 in /Users/rosborn/opt/miniconda3/lib/python3.8/site-packages (from nexusformat) (1.20.3)\n",
      "Requirement already satisfied: scipy in /Users/rosborn/opt/miniconda3/lib/python3.8/site-packages (from nexusformat) (1.7.1)\n",
      "Requirement already satisfied: h5py in /Users/rosborn/opt/miniconda3/lib/python3.8/site-packages (from nexusformat) (3.3.0)\n"
     ]
    }
   ],
   "source": [
    "!pip install nexusformat"
   ]
  },
  {
   "cell_type": "markdown",
   "metadata": {},
   "source": [
    "Once installed, it can be imported using:"
   ]
  },
  {
   "cell_type": "code",
   "execution_count": 2,
   "metadata": {},
   "outputs": [],
   "source": [
    "from nexusformat.nexus import *"
   ]
  },
  {
   "cell_type": "markdown",
   "metadata": {},
   "source": [
    "> *N.B.* Wildcard imports are usually discouraged, but all the imported names have `NX` or `nx` as a prefix, reducing the risk of name clashes."
   ]
  },
  {
   "cell_type": "markdown",
   "metadata": {},
   "source": [
    "## NeXus Fields\n",
    "NeXus data and metadata are stored as either numeric fields (scalar or array) or text strings. In the `nexusformat` package, fields can be created dynamically created from the command line, even if no NeXus file is open."
   ]
  },
  {
   "cell_type": "code",
   "execution_count": 3,
   "metadata": {},
   "outputs": [
    {
     "data": {
      "text/plain": [
       "NXfield(array([ 1.,  2.,  3., ...,  8.,  9., 10.]))"
      ]
     },
     "execution_count": 3,
     "metadata": {},
     "output_type": "execute_result"
    }
   ],
   "source": [
    "import numpy as np\n",
    "x=NXfield(np.linspace(1,10.0,10))\n",
    "x"
   ]
  },
  {
   "cell_type": "markdown",
   "metadata": {},
   "source": [
    "In this case, the `NXfield` object contains the NumPy array, and can be manipulated using standard NumPy operations."
   ]
  },
  {
   "cell_type": "code",
   "execution_count": 4,
   "metadata": {},
   "outputs": [
    {
     "data": {
      "text/plain": [
       "NXfield(array([11., 12., 13., ..., 18., 19., 20.]))"
      ]
     },
     "execution_count": 4,
     "metadata": {},
     "output_type": "execute_result"
    }
   ],
   "source": [
    "x + 10"
   ]
  },
  {
   "cell_type": "code",
   "execution_count": 5,
   "metadata": {},
   "outputs": [
    {
     "data": {
      "text/plain": [
       "NXfield(array([ 0.841471,  0.909297,  0.14112 , ...,  0.989358,  0.412118,\n",
       "       -0.544021]))"
      ]
     },
     "execution_count": 5,
     "metadata": {},
     "output_type": "execute_result"
    }
   ],
   "source": [
    "np.sin(x)"
   ]
  },
  {
   "cell_type": "code",
   "execution_count": 6,
   "metadata": {},
   "outputs": [
    {
     "data": {
      "text/plain": [
       "NXfield(array([12., 14., 16., ..., 26., 28., 30.]))"
      ]
     },
     "execution_count": 6,
     "metadata": {},
     "output_type": "execute_result"
    }
   ],
   "source": [
    "x+np.linspace(11,20.0,10)"
   ]
  },
  {
   "cell_type": "markdown",
   "metadata": {},
   "source": [
    "Like NumPy arrays, NeXus fields have datatypes and shape, which can be manipulated using standard NumPy operations."
   ]
  },
  {
   "cell_type": "code",
   "execution_count": 7,
   "metadata": {},
   "outputs": [
    {
     "data": {
      "text/plain": [
       "dtype('float64')"
      ]
     },
     "execution_count": 7,
     "metadata": {},
     "output_type": "execute_result"
    }
   ],
   "source": [
    "x.dtype"
   ]
  },
  {
   "cell_type": "code",
   "execution_count": 8,
   "metadata": {},
   "outputs": [
    {
     "data": {
      "text/plain": [
       "NXfield(array([[ 1.,  2.,  3.,  4.,  5.],\n",
       "       [ 6.,  7.,  8.,  9., 10.]]))"
      ]
     },
     "execution_count": 8,
     "metadata": {},
     "output_type": "execute_result"
    }
   ],
   "source": [
    "x.reshape((2,5))"
   ]
  },
  {
   "cell_type": "markdown",
   "metadata": {},
   "source": [
    "It is also possible to create large empty arrays and fill them incrementally as slabs. The array is stored in an in-memory HDF5 file until it is saved to disk. "
   ]
  },
  {
   "cell_type": "code",
   "execution_count": 9,
   "metadata": {},
   "outputs": [
    {
     "data": {
      "text/plain": [
       "NXfield(array([nan, nan, nan, ...,  1.,  2., nan], dtype=float32))"
      ]
     },
     "execution_count": 9,
     "metadata": {},
     "output_type": "execute_result"
    }
   ],
   "source": [
    "x=NXfield(shape=(1000,1000), dtype=np.float32, fillvalue=np.nan)\n",
    "x[0,3:6]=range(3)\n",
    "x[0,0:7]"
   ]
  },
  {
   "cell_type": "markdown",
   "metadata": {},
   "source": [
    "NeXus fields can contain scalars and arrays of any NumPy data type, as well as text, which is stored in NeXus files as variable-length strings, by default."
   ]
  },
  {
   "cell_type": "code",
   "execution_count": 10,
   "metadata": {},
   "outputs": [
    {
     "data": {
      "text/plain": [
       "NXfield('Small-Angle Scattering')"
      ]
     },
     "execution_count": 10,
     "metadata": {},
     "output_type": "execute_result"
    }
   ],
   "source": [
    "title=NXfield('Small-Angle Scattering')\n",
    "title"
   ]
  },
  {
   "cell_type": "markdown",
   "metadata": {},
   "source": [
    "## NeXus Groups\n",
    "NeXus fields are stored in groups, which have a class that defines the type of content it contains. In `nexusformat`, these are subclasses of the `NXgroup` class."
   ]
  },
  {
   "cell_type": "code",
   "execution_count": 11,
   "metadata": {},
   "outputs": [
    {
     "data": {
      "text/plain": [
       "NXinstrument('instrument')"
      ]
     },
     "execution_count": 11,
     "metadata": {},
     "output_type": "execute_result"
    }
   ],
   "source": [
    "instrument=NXgroup(name='instrument', nxclass='NXinstrument')\n",
    "instrument"
   ]
  },
  {
   "cell_type": "markdown",
   "metadata": {},
   "source": [
    "For classes defined by the NeXus standard, the group can be instantiated by its class name. You can find a list of NeXus classes in the [online manual](http://download.nexusformat.org/doc/html/classes/base_classes/)."
   ]
  },
  {
   "cell_type": "code",
   "execution_count": 12,
   "metadata": {},
   "outputs": [
    {
     "data": {
      "text/plain": [
       "NXsample('sample')"
      ]
     },
     "execution_count": 12,
     "metadata": {},
     "output_type": "execute_result"
    }
   ],
   "source": [
    "sample=NXsample()\n",
    "sample"
   ]
  },
  {
   "cell_type": "markdown",
   "metadata": {},
   "source": [
    "Fields and groups can be added to any group, using either attribute (*i.e.*, `a.b=c`) or dictionary (*i.e.*, `a['b']=c`) assignments."
   ]
  },
  {
   "cell_type": "code",
   "execution_count": 13,
   "metadata": {
    "scrolled": true
   },
   "outputs": [
    {
     "name": "stdout",
     "output_type": "stream",
     "text": [
      "entry:NXentry\n",
      "  instrument:NXinstrument\n",
      "  sample:NXsample\n",
      "  title = 'Small-Angle Scattering'\n"
     ]
    }
   ],
   "source": [
    "entry=NXentry()\n",
    "entry.title=title\n",
    "entry.sample=sample\n",
    "entry['instrument']=instrument\n",
    "print(entry.tree)"
   ]
  },
  {
   "cell_type": "markdown",
   "metadata": {},
   "source": [
    "> *N.B.* Dictionary assignments are safer when there are potential name clashes with, *e.g.*, NumPy attributes, and should be used when writing scripts. However, attribute assignments are allowed as a convenience as they are quicker to type in interactive sessions.\n",
    "\n",
    "Since group entries are defined in a dictionary, the usual dictionary operations are available."
   ]
  },
  {
   "cell_type": "code",
   "execution_count": 14,
   "metadata": {},
   "outputs": [
    {
     "data": {
      "text/plain": [
       "True"
      ]
     },
     "execution_count": 14,
     "metadata": {},
     "output_type": "execute_result"
    }
   ],
   "source": [
    "'sample' in entry"
   ]
  },
  {
   "cell_type": "code",
   "execution_count": 15,
   "metadata": {},
   "outputs": [
    {
     "name": "stdout",
     "output_type": "stream",
     "text": [
      "'title' is a field\n",
      "'sample' is a group\n",
      "'instrument' is a group\n"
     ]
    }
   ],
   "source": [
    "for name in entry:\n",
    "    if isinstance(entry[name], NXfield):\n",
    "        print(\"'%s' is a field\" % name)\n",
    "    elif isinstance(entry[name], NXgroup):\n",
    "        print(\"'%s' is a group\" % name)"
   ]
  },
  {
   "cell_type": "markdown",
   "metadata": {},
   "source": [
    "The attribute or dictionary name used in the group assignment overrides any internal name that might have been defined when creating the NeXus object."
   ]
  },
  {
   "cell_type": "code",
   "execution_count": 16,
   "metadata": {},
   "outputs": [
    {
     "name": "stdout",
     "output_type": "stream",
     "text": [
      "sample:NXsample\n",
      "  temperature = 40.0\n"
     ]
    }
   ],
   "source": [
    "temperature=NXfield(40.0, name='temp')\n",
    "entry.sample.temperature=temperature\n",
    "print(entry.sample.tree)"
   ]
  },
  {
   "cell_type": "markdown",
   "metadata": {},
   "source": [
    "Extended path strings are recognized in dictionary assignments."
   ]
  },
  {
   "cell_type": "code",
   "execution_count": 17,
   "metadata": {},
   "outputs": [
    {
     "name": "stdout",
     "output_type": "stream",
     "text": [
      "entry:NXentry\n",
      "  instrument:NXinstrument\n",
      "  sample:NXsample\n",
      "    mass = 10.0\n",
      "    temperature = 40.0\n",
      "  title = 'Small-Angle Scattering'\n"
     ]
    }
   ],
   "source": [
    "entry['sample/mass']=10.0\n",
    "print(entry.tree)"
   ]
  },
  {
   "cell_type": "markdown",
   "metadata": {},
   "source": [
    "## Attributes\n",
    "Both groups and fields can have attributes that provide additional metadata or serve a structural purpose, such as identifying axes. These are stored in the `attrs` dictionary."
   ]
  },
  {
   "cell_type": "code",
   "execution_count": 18,
   "metadata": {
    "scrolled": true
   },
   "outputs": [
    {
     "name": "stdout",
     "output_type": "stream",
     "text": [
      "sample:NXsample\n",
      "  mass = 10.0\n",
      "  temperature = 40.0\n",
      "    @units = 'K'\n"
     ]
    }
   ],
   "source": [
    "entry.sample.temperature.attrs['units']='K'\n",
    "print(sample.tree)"
   ]
  },
  {
   "cell_type": "markdown",
   "metadata": {},
   "source": [
    "In the case of NXfields, attributes can be defined using keyword arguments to the NXfield."
   ]
  },
  {
   "cell_type": "code",
   "execution_count": 19,
   "metadata": {},
   "outputs": [],
   "source": [
    "mass=NXfield(10.0,units='g')"
   ]
  },
  {
   "cell_type": "markdown",
   "metadata": {},
   "source": [
    "## NXData Groups\n",
    "The NeXus format defines groups, with class `NXdata`, which are designed to contain the results of the experimental measurement and make them easy to plot. To accomplish this, these groups contain a field, containing one-dimensional or multidimensional arrays, that is designated as the **signal** and one or more one-dimensional fields that are designated as the **axes**. \n",
    "### Creating NXdata Groups\n",
    "The `nexusformat` API has a special constructor for creating `NXdata` groups, which allows the signal and axes to be specified as the first two positional arguments."
   ]
  },
  {
   "cell_type": "code",
   "execution_count": 20,
   "metadata": {},
   "outputs": [
    {
     "name": "stdout",
     "output_type": "stream",
     "text": [
      "data:NXdata\n",
      "  @axes = 'energy_transfer'\n",
      "  @signal = 'counts'\n",
      "  counts = int16(26)\n",
      "    @long_name = 'Detector Counts'\n",
      "  energy_transfer = float32(26)\n",
      "    @long_name = 'Energy Transfer (meV)'\n",
      "    @units = 'meV'\n",
      "  title = 'Example 1D Data'\n"
     ]
    }
   ],
   "source": [
    "en=NXfield(np.linspace(10,35,26),name='energy_transfer',dtype=np.float32,units='meV',\n",
    "          long_name='Energy Transfer (meV)')\n",
    "co=NXfield([26,28,49,52,96,165,369,932,1933,3510,5170,6265,6863,6766,5566,4366,2789,1611,928,635,392,266,169,141,113,73],\n",
    "           name='counts',dtype=np.int16,long_name='Detector Counts')\n",
    "data1D=NXdata(co, [en], title='Example 1D Data')\n",
    "print(data1D.tree)"
   ]
  },
  {
   "cell_type": "markdown",
   "metadata": {},
   "source": [
    "In this example, the first two arguments contain fields representing the signal and axes, respectively. \n",
    "> *N.B.* In the case of one-dimensional data, it is not necessary to specify the axes as a list.\n",
    "\n",
    "> *N.B.* We used the keyword argument, `name`, when creating the NXfields. This is the name is used for the field within the NXdata group. Otherwise, default names would have been assigned to the fields, such as `signal`, `axis1`, `axis2`, *etc.*\n",
    "\n",
    "If you want to use group assignments to generate the name automatically, you can create an empty NXdata group and define its `nxsignal` and `nxaxes` properties."
   ]
  },
  {
   "cell_type": "code",
   "execution_count": 21,
   "metadata": {},
   "outputs": [
    {
     "name": "stdout",
     "output_type": "stream",
     "text": [
      "data:NXdata\n",
      "  @axes = ['yvals', 'xvals']\n",
      "  @signal = 'zvals'\n",
      "  title = 'Example 2D Data'\n",
      "  xvals = float64(101)\n",
      "  yvals = float64(101)\n",
      "  zvals = float64(101x101)\n"
     ]
    }
   ],
   "source": [
    "data2D=NXdata()\n",
    "data2D.xvals=data2D.yvals=np.linspace(0,2.*np.pi,101)\n",
    "X,Y=np.meshgrid(data2D.xvals,data2D.yvals)\n",
    "data2D.zvals=np.sin(X)*np.sin(Y)\n",
    "data2D.nxsignal=data2D.zvals\n",
    "data2D.nxaxes=[data2D.yvals,data2D.xvals]\n",
    "data2D.title='Example 2D Data'\n",
    "print(data2D.tree)"
   ]
  },
  {
   "cell_type": "markdown",
   "metadata": {},
   "source": [
    "In this example, the `signal` and `axes` attributes of the `NXdata` group were automatically set when the `nxsignal` and `nxaxes` properties were specified.\n",
    "### Plotting NXdata Groups\n",
    "The information within the NXdata group is sufficient to allow them to be plotted automatically."
   ]
  },
  {
   "cell_type": "code",
   "execution_count": 32,
   "metadata": {},
   "outputs": [
    {
     "data": {
      "image/png": "[encoded data removed]",
      "text/plain": [
       "<Figure size 432x288 with 1 Axes>"
      ]
     },
     "metadata": {
      "needs_background": "light"
     },
     "output_type": "display_data"
    },
    {
     "data": {
      "image/png": "[encoded data removed]",
      "text/plain": [
       "<Figure size 432x288 with 2 Axes>"
      ]
     },
     "metadata": {
      "needs_background": "light"
     },
     "output_type": "display_data"
    }
   ],
   "source": [
    "%matplotlib inline\n",
    "data1D.plot()\n",
    "data2D.plot()"
   ]
  },
  {
   "cell_type": "markdown",
   "metadata": {},
   "source": [
    "The `nexusformat` package uses Matplotlib for plotting. The first positional argument of the `plot` function can contain a Matplotlib formatting string."
   ]
  },
  {
   "cell_type": "code",
   "execution_count": 33,
   "metadata": {},
   "outputs": [
    {
     "data": {
      "image/png": "[encoded data removed]",
      "text/plain": [
       "<Figure size 432x288 with 1 Axes>"
      ]
     },
     "metadata": {
      "needs_background": "light"
     },
     "output_type": "display_data"
    }
   ],
   "source": [
    "data1D.plot('r+')"
   ]
  },
  {
   "cell_type": "markdown",
   "metadata": {},
   "source": [
    "### Slicing NXdata Groups\n",
    "The NXdata groups can be sliced as though they were a NumPy array, since they contain one signal array."
   ]
  },
  {
   "cell_type": "code",
   "execution_count": 24,
   "metadata": {},
   "outputs": [
    {
     "name": "stdout",
     "output_type": "stream",
     "text": [
      "data:NXdata\n",
      "  @axes = ['yvals', 'xvals']\n",
      "  @signal = 'zvals'\n",
      "  title = 'Example 2D Data'\n",
      "  xvals = float64(51)\n",
      "  yvals = float64(51)\n",
      "  zvals = float64(51x51)\n"
     ]
    }
   ],
   "source": [
    "print(data2D[0:51,0:51].tree)\n",
    "data2D[0:51,0:51].plot()"
   ]
  },
  {
   "cell_type": "markdown",
   "metadata": {},
   "source": [
    "In an extension of the usual Python slicing syntax, floating point values can be used to extract a slice using the axis values, rather than the signal array indices, to set the limits."
   ]
  },
  {
   "cell_type": "code",
   "execution_count": 25,
   "metadata": {},
   "outputs": [
    {
     "name": "stdout",
     "output_type": "stream",
     "text": [
      "data:NXdata\n",
      "  @axes = ['yvals', 'xvals']\n",
      "  @signal = 'zvals'\n",
      "  title = 'Example 2D Data'\n",
      "  xvals = float64(51)\n",
      "  yvals = float64(51)\n",
      "  zvals = float64(51x51)\n"
     ]
    }
   ],
   "source": [
    "print(data2D[0:np.pi,0:np.pi].tree)\n",
    "data2D[0:np.pi,0:np.pi].plot()"
   ]
  },
  {
   "cell_type": "markdown",
   "metadata": {},
   "source": [
    "### Manipulating NXdata Groups\n",
    "The NXdata groups can be used in arithmetic expressions involving addition, subtraction, multiplication, and division, using the same broadcast rules as NumPy arrays."
   ]
  },
  {
   "cell_type": "code",
   "execution_count": 26,
   "metadata": {},
   "outputs": [],
   "source": [
    "bkgd=100.*data1D.energy_transfer\n",
    "(2*data1D+bkgd).plot()"
   ]
  },
  {
   "cell_type": "markdown",
   "metadata": {},
   "source": [
    "Some statistical functions also make use of the information stored within the group. For example, the "
   ]
  },
  {
   "cell_type": "code",
   "execution_count": 27,
   "metadata": {},
   "outputs": [
    {
     "name": "stdout",
     "output_type": "stream",
     "text": [
      "Sum:  49273 Average:  1895.1153846153845 Moment:  22.528768290950417\n"
     ]
    }
   ],
   "source": [
    "print(\"Sum: \", str(data1D.sum()), \"Average: \", str(data1D.average()), \"Moment: \", str(data1D.moment()))"
   ]
  },
  {
   "cell_type": "markdown",
   "metadata": {},
   "source": [
    "## NeXus Design\n",
    "NeXus files should normally follow a standard layout, which is designed to make it easy to understand the contents without any external documentation.\n",
    "\n",
    "Here is a typical group hierarchy - the NXinstrument groups that are included will depend on the nature of the instrument:\n",
    "\n",
    "* **NXentry**: This typically encapsulates all the data for a specific run or scan. There can  be multiple NXentry groups, which don't necessarily have to contain the same types of data\n",
    "  * **NXsample**: Information concerning the measured sample, *e.g.*, temperature or mass\n",
    "  * **NXinstrument**: The components making up the instrument\n",
    "    * **NXmonochromator**: The parameters defining a monochromator, such as the incident energy\n",
    "    * **NXcollimator**: The parameters defining a collimator\n",
    "    * **NXdetector**: The parameters defining the detector(s)\n",
    "  * **NXdata**: The measured data\n",
    "\n",
    "This can be easily initialized by the `nexusformat` package. If the default names are acceptable, then just type the following:"
   ]
  },
  {
   "cell_type": "code",
   "execution_count": 28,
   "metadata": {},
   "outputs": [
    {
     "name": "stdout",
     "output_type": "stream",
     "text": [
      "root:NXroot\n",
      "  entry:NXentry\n",
      "    data:NXdata\n",
      "      @axes = 'energy_transfer'\n",
      "      @signal = 'counts'\n",
      "      counts = int16(26)\n",
      "        @long_name = 'Detector Counts'\n",
      "      energy_transfer = float32(26)\n",
      "        @long_name = 'Energy Transfer (meV)'\n",
      "        @units = 'meV'\n",
      "      title = 'Example 1D Data'\n",
      "    instrument:NXinstrument\n",
      "      collimator:NXcollimator\n",
      "      detector:NXdetector\n",
      "      monochromator:NXmonochromator\n",
      "    sample:NXsample\n",
      "      mass = 10.0\n",
      "      temperature = 40.0\n",
      "        @units = 'K'\n"
     ]
    }
   ],
   "source": [
    "root=NXroot(NXentry(sample,NXinstrument(NXmonochromator(),NXcollimator(),NXdetector()),data1D))\n",
    "print(root.tree)"
   ]
  },
  {
   "cell_type": "markdown",
   "metadata": {},
   "source": [
    "> The `NXroot` is a virtual class that defines the file-level of a NeXus tree.\n",
    "\n",
    "Metadata can then be added to the created groups."
   ]
  },
  {
   "cell_type": "markdown",
   "metadata": {},
   "source": [
    "Once a root group has been defined, it can be saved to a file.\n",
    "## Saving and Loading NeXus Data\n",
    "So far, we have created a NeXus file purely in memory, but it can be saved to disk at any time. Afterwards, all subsequent operations on the data will be automatically saved to the file."
   ]
  },
  {
   "cell_type": "code",
   "execution_count": 29,
   "metadata": {},
   "outputs": [
    {
     "name": "stdout",
     "output_type": "stream",
     "text": [
      "root:NXroot\n",
      "  entry:NXentry\n",
      "    data:NXdata\n",
      "      @axes = 'energy_transfer'\n",
      "      @signal = 'counts'\n",
      "      counts = int16(26)\n",
      "        @long_name = 'Detector Counts'\n",
      "      energy_transfer = float32(26)\n",
      "        @long_name = 'Energy Transfer (meV)'\n",
      "        @units = 'meV'\n",
      "      title = 'Example 1D Data'\n",
      "    instrument:NXinstrument\n",
      "      collimator:NXcollimator\n",
      "      detector:NXdetector\n",
      "      monochromator:NXmonochromator\n",
      "    sample:NXsample\n",
      "      mass = 10.0\n",
      "      temperature = 40.0\n",
      "        @units = 'K'\n"
     ]
    },
    {
     "data": {
      "text/plain": [
       "NXroot('root')"
      ]
     },
     "execution_count": 29,
     "metadata": {},
     "output_type": "execute_result"
    }
   ],
   "source": [
    "print(root.tree)\n",
    "root.save('example.nxs','w')"
   ]
  },
  {
   "cell_type": "markdown",
   "metadata": {},
   "source": [
    "This data can be reloaded using the `nxload` function. Possible file modes are:\n",
    "* `r`: Open as read-only\n",
    "* `rw`: Open as read-write"
   ]
  },
  {
   "cell_type": "code",
   "execution_count": 30,
   "metadata": {},
   "outputs": [
    {
     "name": "stdout",
     "output_type": "stream",
     "text": [
      "root:NXroot\n",
      "  @HDF5_Version = '1.10.6'\n",
      "  @file_name = '/Users/rosborn/Documents/Computing/Repositorie...'\n",
      "  @file_time = '2021-11-21T16:00:34.547370'\n",
      "  @h5py_version = '3.3.0'\n",
      "  @nexusformat_version = '0.7.1'\n",
      "  entry:NXentry\n",
      "    data:NXdata\n",
      "      @axes = 'energy_transfer'\n",
      "      @signal = 'counts'\n",
      "      counts = int16(26)\n",
      "        @long_name = 'Detector Counts'\n",
      "      energy_transfer = float32(26)\n",
      "        @long_name = 'Energy Transfer (meV)'\n",
      "        @units = 'meV'\n",
      "      title = 'Example 1D Data'\n",
      "    instrument:NXinstrument\n",
      "      collimator:NXcollimator\n",
      "      detector:NXdetector\n",
      "      monochromator:NXmonochromator\n",
      "    sample:NXsample\n",
      "      mass = 10.0\n",
      "      temperature = 40.0\n",
      "        @units = 'K'\n"
     ]
    }
   ],
   "source": [
    "saved_file=nxload('example.nxs','rw')\n",
    "print(saved_file.tree)"
   ]
  },
  {
   "cell_type": "markdown",
   "metadata": {},
   "source": [
    "If the file is opened in read-write mode, all changes to the file are saved automatically."
   ]
  },
  {
   "cell_type": "code",
   "execution_count": 31,
   "metadata": {},
   "outputs": [
    {
     "name": "stdout",
     "output_type": "stream",
     "text": [
      "root:NXroot\n",
      "  @HDF5_Version = '1.10.6'\n",
      "  @file_name = '/Users/rosborn/Documents/Computing/Repositorie...'\n",
      "  @file_time = '2021-11-21T16:00:34.547370'\n",
      "  @h5py_version = '3.3.0'\n",
      "  @nexusformat_version = '0.7.1'\n",
      "  entry:NXentry\n",
      "    data:NXdata\n",
      "      @axes = 'energy_transfer'\n",
      "      @signal = 'counts'\n",
      "      counts = int16(26)\n",
      "        @long_name = 'Detector Counts'\n",
      "      energy_transfer = float32(26)\n",
      "        @long_name = 'Energy Transfer (meV)'\n",
      "        @units = 'meV'\n",
      "      title = 'Example 1D Data'\n",
      "    instrument:NXinstrument\n",
      "      collimator:NXcollimator\n",
      "      detector:NXdetector\n",
      "      monochromator:NXmonochromator\n",
      "        energy = 120.0\n",
      "          @units = 'meV'\n",
      "    sample:NXsample\n",
      "      mass = 10.0\n",
      "      temperature = 40.0\n",
      "        @units = 'K'\n"
     ]
    }
   ],
   "source": [
    "saved_file['entry/instrument/monochromator/energy']=NXfield(120.0, units='meV')\n",
    "print(saved_file.tree)"
   ]
  }
 ],
 "metadata": {
  "kernelspec": {
   "display_name": "Python 3",
   "language": "python",
   "name": "python3"
  },
  "language_info": {
   "codemirror_mode": {
    "name": "ipython",
    "version": 3
   },
   "file_extension": ".py",
   "mimetype": "text/x-python",
   "name": "python",
   "nbconvert_exporter": "python",
   "pygments_lexer": "ipython3",
   "version": "3.8.12"
  }
 },
 "nbformat": 4,
 "nbformat_minor": 2
}
